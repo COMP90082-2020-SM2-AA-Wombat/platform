{
 "cells": [
  {
   "cell_type": "code",
   "execution_count": null,
   "metadata": {},
   "outputs": [],
   "source": [
    "import mysql.connector\n",
    "import pandas as pd"
   ]
  },
  {
   "cell_type": "code",
   "execution_count": null,
   "metadata": {},
   "outputs": [],
   "source": [
    "config = {\n",
    "    'user': 'user',\n",
    "    'password': 'password',\n",
    "    'host': 'db',\n",
    "    'port': '3306',\n",
    "    'database': 'AA_AUDIT',\n",
    "}\n",
    "\n",
    "connection = mysql.connector.connect(**config)\n"
   ]
  },
  {
   "cell_type": "code",
   "execution_count": null,
   "metadata": {},
   "outputs": [],
   "source": [
    "cursor = connection.cursor(buffered=True)"
   ]
  },
  {
   "cell_type": "code",
   "execution_count": null,
   "metadata": {},
   "outputs": [],
   "source": [
    "beams  = pd.read_sql(\"select * from beams\", connection)\n",
    "cases = pd.read_sql(\"select * from cases\", connection)\n",
    "ct_models = pd.read_sql(\"select * from ct_models\", connection)\n",
    "energy_level = pd.read_sql(\"select * from energy_level\", connection)\n",
    "facilities = pd.read_sql(\"select * from facilities\", connection)\n",
    "facilities_has_linacs = pd.read_sql(\"select * from facilities_has_linacs\", connection)\n",
    "facility_operator = pd.read_sql(\"select * from facility_operator\", connection)\n",
    "linac_models = pd.read_sql(\"select * from linac_models\", connection)\n",
    "phantoms = pd.read_sql(\"select * from phantoms\", connection)\n",
    "planning_systems = pd.read_sql(\"select * from planning_systems\", connection)\n",
    "points = pd.read_sql(\"select * from points\", connection)\n",
    "trs_398_method = pd.read_sql(\"select * from trs_398_method\", connection)"
   ]
  },
  {
   "cell_type": "code",
   "execution_count": null,
   "metadata": {},
   "outputs": [],
   "source": [
    "trs_398_method"
   ]
  },
  {
   "cell_type": "code",
   "execution_count": null,
   "metadata": {},
   "outputs": [],
   "source": [
    "phantoms"
   ]
  },
  {
   "cell_type": "code",
   "execution_count": null,
   "metadata": {},
   "outputs": [],
   "source": [
    "planning_systems"
   ]
  },
  {
   "cell_type": "code",
   "execution_count": null,
   "metadata": {},
   "outputs": [],
   "source": [
    "points"
   ]
  },
  {
   "cell_type": "code",
   "execution_count": null,
   "metadata": {},
   "outputs": [],
   "source": [
    "facility_operator"
   ]
  },
  {
   "cell_type": "code",
   "execution_count": null,
   "metadata": {},
   "outputs": [],
   "source": [
    "linac_models"
   ]
  },
  {
   "cell_type": "code",
   "execution_count": null,
   "metadata": {},
   "outputs": [],
   "source": [
    "ct_models"
   ]
  },
  {
   "cell_type": "code",
   "execution_count": null,
   "metadata": {},
   "outputs": [],
   "source": [
    "cases"
   ]
  },
  {
   "cell_type": "code",
   "execution_count": null,
   "metadata": {},
   "outputs": [],
   "source": [
    "ct_models"
   ]
  },
  {
   "cell_type": "code",
   "execution_count": null,
   "metadata": {},
   "outputs": [],
   "source": []
  }
 ],
 "metadata": {
  "kernelspec": {
   "display_name": "Python 3",
   "language": "python",
   "name": "python3"
  },
  "language_info": {
   "codemirror_mode": {
    "name": "ipython",
    "version": 3
   },
   "file_extension": ".py",
   "mimetype": "text/x-python",
   "name": "python",
   "nbconvert_exporter": "python",
   "pygments_lexer": "ipython3",
   "version": "3.8.5"
  }
 },
 "nbformat": 4,
 "nbformat_minor": 4
}
