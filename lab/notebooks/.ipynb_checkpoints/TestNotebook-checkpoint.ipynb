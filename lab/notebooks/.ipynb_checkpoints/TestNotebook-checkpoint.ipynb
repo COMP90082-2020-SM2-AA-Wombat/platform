{
 "cells": [
  {
   "cell_type": "code",
   "execution_count": 1,
   "metadata": {},
   "outputs": [
    {
     "name": "stdout",
     "output_type": "stream",
     "text": [
      "Collecting mysql-connector\n",
      "  Downloading mysql-connector-2.2.9.tar.gz (11.9 MB)\n",
      "\u001b[K     |████████████████████████████████| 11.9 MB 6.0 MB/s eta 0:00:01    |▌                               | 184 kB 2.3 MB/s eta 0:00:06     |████████████████████▎           | 7.5 MB 6.0 MB/s eta 0:00:01     |█████████████████████████▌      | 9.5 MB 6.0 MB/s eta 0:00:01\n",
      "\u001b[?25hBuilding wheels for collected packages: mysql-connector\n",
      "  Building wheel for mysql-connector (setup.py) ... \u001b[?25ldone\n",
      "\u001b[?25h  Created wheel for mysql-connector: filename=mysql_connector-2.2.9-cp38-cp38-linux_x86_64.whl size=247947 sha256=cb57efab00ca3d37b20b0eac816aca8f25cf99269ab73d16eaf23d31f1e0d413\n",
      "  Stored in directory: /home/jovyan/.cache/pip/wheels/57/e4/98/5feafb5c393dd2540e44b064a6f95832990d543e5b4f53ea8f\n",
      "Successfully built mysql-connector\n",
      "Installing collected packages: mysql-connector\n",
      "Successfully installed mysql-connector-2.2.9\n"
     ]
    }
   ],
   "source": [
    "!pip install mysql-connector"
   ]
  },
  {
   "cell_type": "code",
   "execution_count": 2,
   "metadata": {},
   "outputs": [],
   "source": [
    "import mysql.connector"
   ]
  },
  {
   "cell_type": "code",
   "execution_count": 3,
   "metadata": {},
   "outputs": [],
   "source": [
    "    config = {\n",
    "        'user': 'root',\n",
    "        'password': 'password',\n",
    "        'host': 'db',\n",
    "        'port': '3306',\n",
    "        'database': 'AA_AUDIT'\n",
    "    }\n",
    "\n",
    "    connection = mysql.connector.connect(**config)\n"
   ]
  },
  {
   "cell_type": "code",
   "execution_count": 4,
   "metadata": {},
   "outputs": [],
   "source": [
    "    cursor = connection.cursor()\n",
    "    cursor.execute('SELECT * FROM input_table')"
   ]
  },
  {
   "cell_type": "code",
   "execution_count": 6,
   "metadata": {},
   "outputs": [
    {
     "name": "stdout",
     "output_type": "stream",
     "text": [
      "[{'Sam': 'blue'}, {'Ari': 'yellow'}]\n"
     ]
    }
   ],
   "source": [
    "    results = [{name: color} for (name, color) in cursor]\n",
    "    print (results)"
   ]
  },
  {
   "cell_type": "code",
   "execution_count": null,
   "metadata": {},
   "outputs": [],
   "source": []
  }
 ],
 "metadata": {
  "kernelspec": {
   "display_name": "Python 3",
   "language": "python",
   "name": "python3"
  },
  "language_info": {
   "codemirror_mode": {
    "name": "ipython",
    "version": 3
   },
   "file_extension": ".py",
   "mimetype": "text/x-python",
   "name": "python",
   "nbconvert_exporter": "python",
   "pygments_lexer": "ipython3",
   "version": "3.8.5"
  }
 },
 "nbformat": 4,
 "nbformat_minor": 4
}
